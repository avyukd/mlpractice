{
  "nbformat": 4,
  "nbformat_minor": 0,
  "metadata": {
    "colab": {
      "name": "PracticeUCI_Adult.ipynb",
      "version": "0.3.2",
      "provenance": [],
      "include_colab_link": true
    },
    "kernelspec": {
      "name": "python3",
      "display_name": "Python 3"
    },
    "accelerator": "GPU"
  },
  "cells": [
    {
      "cell_type": "markdown",
      "metadata": {
        "id": "view-in-github",
        "colab_type": "text"
      },
      "source": [
        "[View in Colaboratory](https://colab.research.google.com/github/avyukd/mlpractice/blob/master/PracticeUCI_Adult.ipynb)"
      ]
    },
    {
      "metadata": {
        "id": "JbBY3exfgYn_",
        "colab_type": "code",
        "colab": {
          "base_uri": "https://localhost:8080/",
          "height": 4403
        },
        "outputId": "e9f9e9c9-dfd5-4c44-8325-90859810e10b"
      },
      "cell_type": "code",
      "source": [
        "import pandas\n",
        "import numpy as np\n",
        "column_headers = [\"age\",\"workclass\",\"fnlwgt\",\"education\",\"education-num\",\"marital-status\",\"occupation\",\"relationship\",\"race\",\"sex\",\"capital-gain\",\"capital-loss\",\"hoursperweek\",\"native-country\",\"income\"]\n",
        "test_url = \"http://archive.ics.uci.edu/ml/machine-learning-databases/adult/adult.test\"\n",
        "url = \"http://archive.ics.uci.edu/ml/machine-learning-databases/adult/adult.data\"\n",
        "train = pandas.read_csv(url,names=column_headers,skipinitialspace=True)\n",
        "test_raw = pandas.read_csv(test_url,names=column_headers,skipinitialspace=True)\n",
        "test = test_raw.iloc[1:]\n",
        "test = test.replace(to_replace='?', value=np.nan).dropna()\n",
        "train = train.replace(to_replace=\"?\", value=np.nan).dropna()\n",
        "print(train)"
      ],
      "execution_count": 86,
      "outputs": [
        {
          "output_type": "stream",
          "text": [
            "       age         workclass  fnlwgt     education  education-num  \\\n",
            "0       39         State-gov   77516     Bachelors             13   \n",
            "1       50  Self-emp-not-inc   83311     Bachelors             13   \n",
            "2       38           Private  215646       HS-grad              9   \n",
            "3       53           Private  234721          11th              7   \n",
            "4       28           Private  338409     Bachelors             13   \n",
            "5       37           Private  284582       Masters             14   \n",
            "6       49           Private  160187           9th              5   \n",
            "7       52  Self-emp-not-inc  209642       HS-grad              9   \n",
            "8       31           Private   45781       Masters             14   \n",
            "9       42           Private  159449     Bachelors             13   \n",
            "10      37           Private  280464  Some-college             10   \n",
            "11      30         State-gov  141297     Bachelors             13   \n",
            "12      23           Private  122272     Bachelors             13   \n",
            "13      32           Private  205019    Assoc-acdm             12   \n",
            "15      34           Private  245487       7th-8th              4   \n",
            "16      25  Self-emp-not-inc  176756       HS-grad              9   \n",
            "17      32           Private  186824       HS-grad              9   \n",
            "18      38           Private   28887          11th              7   \n",
            "19      43  Self-emp-not-inc  292175       Masters             14   \n",
            "20      40           Private  193524     Doctorate             16   \n",
            "21      54           Private  302146       HS-grad              9   \n",
            "22      35       Federal-gov   76845           9th              5   \n",
            "23      43           Private  117037          11th              7   \n",
            "24      59           Private  109015       HS-grad              9   \n",
            "25      56         Local-gov  216851     Bachelors             13   \n",
            "26      19           Private  168294       HS-grad              9   \n",
            "28      39           Private  367260       HS-grad              9   \n",
            "29      49           Private  193366       HS-grad              9   \n",
            "30      23         Local-gov  190709    Assoc-acdm             12   \n",
            "31      20           Private  266015  Some-college             10   \n",
            "...    ...               ...     ...           ...            ...   \n",
            "32526   32           Private  211349          10th              6   \n",
            "32527   22           Private  203715  Some-college             10   \n",
            "32528   31           Private  292592       HS-grad              9   \n",
            "32529   29           Private  125976       HS-grad              9   \n",
            "32532   34           Private  204461     Doctorate             16   \n",
            "32533   54           Private  337992     Bachelors             13   \n",
            "32534   37           Private  179137  Some-college             10   \n",
            "32535   22           Private  325033          12th              8   \n",
            "32536   34           Private  160216     Bachelors             13   \n",
            "32537   30           Private  345898       HS-grad              9   \n",
            "32538   38           Private  139180     Bachelors             13   \n",
            "32540   45         State-gov  252208       HS-grad              9   \n",
            "32543   45         Local-gov  119199    Assoc-acdm             12   \n",
            "32544   31           Private  199655       Masters             14   \n",
            "32545   39         Local-gov  111499    Assoc-acdm             12   \n",
            "32546   37           Private  198216    Assoc-acdm             12   \n",
            "32547   43           Private  260761       HS-grad              9   \n",
            "32548   65  Self-emp-not-inc   99359   Prof-school             15   \n",
            "32549   43         State-gov  255835  Some-college             10   \n",
            "32550   43  Self-emp-not-inc   27242  Some-college             10   \n",
            "32551   32           Private   34066          10th              6   \n",
            "32552   43           Private   84661     Assoc-voc             11   \n",
            "32553   32           Private  116138       Masters             14   \n",
            "32554   53           Private  321865       Masters             14   \n",
            "32555   22           Private  310152  Some-college             10   \n",
            "32556   27           Private  257302    Assoc-acdm             12   \n",
            "32557   40           Private  154374       HS-grad              9   \n",
            "32558   58           Private  151910       HS-grad              9   \n",
            "32559   22           Private  201490       HS-grad              9   \n",
            "32560   52      Self-emp-inc  287927       HS-grad              9   \n",
            "\n",
            "              marital-status         occupation    relationship  \\\n",
            "0              Never-married       Adm-clerical   Not-in-family   \n",
            "1         Married-civ-spouse    Exec-managerial         Husband   \n",
            "2                   Divorced  Handlers-cleaners   Not-in-family   \n",
            "3         Married-civ-spouse  Handlers-cleaners         Husband   \n",
            "4         Married-civ-spouse     Prof-specialty            Wife   \n",
            "5         Married-civ-spouse    Exec-managerial            Wife   \n",
            "6      Married-spouse-absent      Other-service   Not-in-family   \n",
            "7         Married-civ-spouse    Exec-managerial         Husband   \n",
            "8              Never-married     Prof-specialty   Not-in-family   \n",
            "9         Married-civ-spouse    Exec-managerial         Husband   \n",
            "10        Married-civ-spouse    Exec-managerial         Husband   \n",
            "11        Married-civ-spouse     Prof-specialty         Husband   \n",
            "12             Never-married       Adm-clerical       Own-child   \n",
            "13             Never-married              Sales   Not-in-family   \n",
            "15        Married-civ-spouse   Transport-moving         Husband   \n",
            "16             Never-married    Farming-fishing       Own-child   \n",
            "17             Never-married  Machine-op-inspct       Unmarried   \n",
            "18        Married-civ-spouse              Sales         Husband   \n",
            "19                  Divorced    Exec-managerial       Unmarried   \n",
            "20        Married-civ-spouse     Prof-specialty         Husband   \n",
            "21                 Separated      Other-service       Unmarried   \n",
            "22        Married-civ-spouse    Farming-fishing         Husband   \n",
            "23        Married-civ-spouse   Transport-moving         Husband   \n",
            "24                  Divorced       Tech-support       Unmarried   \n",
            "25        Married-civ-spouse       Tech-support         Husband   \n",
            "26             Never-married       Craft-repair       Own-child   \n",
            "28                  Divorced    Exec-managerial   Not-in-family   \n",
            "29        Married-civ-spouse       Craft-repair         Husband   \n",
            "30             Never-married    Protective-serv   Not-in-family   \n",
            "31             Never-married              Sales       Own-child   \n",
            "...                      ...                ...             ...   \n",
            "32526     Married-civ-spouse   Transport-moving         Husband   \n",
            "32527          Never-married       Adm-clerical       Own-child   \n",
            "32528     Married-civ-spouse  Machine-op-inspct            Wife   \n",
            "32529              Separated              Sales       Unmarried   \n",
            "32532     Married-civ-spouse     Prof-specialty         Husband   \n",
            "32533     Married-civ-spouse    Exec-managerial         Husband   \n",
            "32534               Divorced       Adm-clerical       Unmarried   \n",
            "32535          Never-married    Protective-serv       Own-child   \n",
            "32536          Never-married    Exec-managerial   Not-in-family   \n",
            "32537          Never-married       Craft-repair   Not-in-family   \n",
            "32538               Divorced     Prof-specialty       Unmarried   \n",
            "32540              Separated       Adm-clerical       Own-child   \n",
            "32543               Divorced     Prof-specialty       Unmarried   \n",
            "32544               Divorced      Other-service   Not-in-family   \n",
            "32545     Married-civ-spouse       Adm-clerical            Wife   \n",
            "32546               Divorced       Tech-support   Not-in-family   \n",
            "32547     Married-civ-spouse  Machine-op-inspct         Husband   \n",
            "32548          Never-married     Prof-specialty   Not-in-family   \n",
            "32549               Divorced       Adm-clerical  Other-relative   \n",
            "32550     Married-civ-spouse       Craft-repair         Husband   \n",
            "32551     Married-civ-spouse  Handlers-cleaners         Husband   \n",
            "32552     Married-civ-spouse              Sales         Husband   \n",
            "32553          Never-married       Tech-support   Not-in-family   \n",
            "32554     Married-civ-spouse    Exec-managerial         Husband   \n",
            "32555          Never-married    Protective-serv   Not-in-family   \n",
            "32556     Married-civ-spouse       Tech-support            Wife   \n",
            "32557     Married-civ-spouse  Machine-op-inspct         Husband   \n",
            "32558                Widowed       Adm-clerical       Unmarried   \n",
            "32559          Never-married       Adm-clerical       Own-child   \n",
            "32560     Married-civ-spouse    Exec-managerial            Wife   \n",
            "\n",
            "                     race     sex  capital-gain  capital-loss  hoursperweek  \\\n",
            "0                   White    Male          2174             0            40   \n",
            "1                   White    Male             0             0            13   \n",
            "2                   White    Male             0             0            40   \n",
            "3                   Black    Male             0             0            40   \n",
            "4                   Black  Female             0             0            40   \n",
            "5                   White  Female             0             0            40   \n",
            "6                   Black  Female             0             0            16   \n",
            "7                   White    Male             0             0            45   \n",
            "8                   White  Female         14084             0            50   \n",
            "9                   White    Male          5178             0            40   \n",
            "10                  Black    Male             0             0            80   \n",
            "11     Asian-Pac-Islander    Male             0             0            40   \n",
            "12                  White  Female             0             0            30   \n",
            "13                  Black    Male             0             0            50   \n",
            "15     Amer-Indian-Eskimo    Male             0             0            45   \n",
            "16                  White    Male             0             0            35   \n",
            "17                  White    Male             0             0            40   \n",
            "18                  White    Male             0             0            50   \n",
            "19                  White  Female             0             0            45   \n",
            "20                  White    Male             0             0            60   \n",
            "21                  Black  Female             0             0            20   \n",
            "22                  Black    Male             0             0            40   \n",
            "23                  White    Male             0          2042            40   \n",
            "24                  White  Female             0             0            40   \n",
            "25                  White    Male             0             0            40   \n",
            "26                  White    Male             0             0            40   \n",
            "28                  White    Male             0             0            80   \n",
            "29                  White    Male             0             0            40   \n",
            "30                  White    Male             0             0            52   \n",
            "31                  Black    Male             0             0            44   \n",
            "...                   ...     ...           ...           ...           ...   \n",
            "32526               White    Male             0             0            40   \n",
            "32527               White    Male             0             0            40   \n",
            "32528               White  Female             0             0            40   \n",
            "32529               White  Female             0             0            35   \n",
            "32532               White    Male             0             0            60   \n",
            "32533  Asian-Pac-Islander    Male             0             0            50   \n",
            "32534               White  Female             0             0            39   \n",
            "32535               Black    Male             0             0            35   \n",
            "32536               White  Female             0             0            55   \n",
            "32537               Black    Male             0             0            46   \n",
            "32538               Black  Female         15020             0            45   \n",
            "32540               White  Female             0             0            40   \n",
            "32543               White  Female             0             0            48   \n",
            "32544               Other  Female             0             0            30   \n",
            "32545               White  Female             0             0            20   \n",
            "32546               White  Female             0             0            40   \n",
            "32547               White    Male             0             0            40   \n",
            "32548               White    Male          1086             0            60   \n",
            "32549               White  Female             0             0            40   \n",
            "32550               White    Male             0             0            50   \n",
            "32551  Amer-Indian-Eskimo    Male             0             0            40   \n",
            "32552               White    Male             0             0            45   \n",
            "32553  Asian-Pac-Islander    Male             0             0            11   \n",
            "32554               White    Male             0             0            40   \n",
            "32555               White    Male             0             0            40   \n",
            "32556               White  Female             0             0            38   \n",
            "32557               White    Male             0             0            40   \n",
            "32558               White  Female             0             0            40   \n",
            "32559               White    Male             0             0            20   \n",
            "32560               White  Female         15024             0            40   \n",
            "\n",
            "      native-country income  \n",
            "0      United-States  <=50K  \n",
            "1      United-States  <=50K  \n",
            "2      United-States  <=50K  \n",
            "3      United-States  <=50K  \n",
            "4               Cuba  <=50K  \n",
            "5      United-States  <=50K  \n",
            "6            Jamaica  <=50K  \n",
            "7      United-States   >50K  \n",
            "8      United-States   >50K  \n",
            "9      United-States   >50K  \n",
            "10     United-States   >50K  \n",
            "11             India   >50K  \n",
            "12     United-States  <=50K  \n",
            "13     United-States  <=50K  \n",
            "15            Mexico  <=50K  \n",
            "16     United-States  <=50K  \n",
            "17     United-States  <=50K  \n",
            "18     United-States  <=50K  \n",
            "19     United-States   >50K  \n",
            "20     United-States   >50K  \n",
            "21     United-States  <=50K  \n",
            "22     United-States  <=50K  \n",
            "23     United-States  <=50K  \n",
            "24     United-States  <=50K  \n",
            "25     United-States   >50K  \n",
            "26     United-States  <=50K  \n",
            "28     United-States  <=50K  \n",
            "29     United-States  <=50K  \n",
            "30     United-States  <=50K  \n",
            "31     United-States  <=50K  \n",
            "...              ...    ...  \n",
            "32526  United-States  <=50K  \n",
            "32527  United-States  <=50K  \n",
            "32528  United-States  <=50K  \n",
            "32529  United-States  <=50K  \n",
            "32532  United-States   >50K  \n",
            "32533          Japan   >50K  \n",
            "32534  United-States  <=50K  \n",
            "32535  United-States  <=50K  \n",
            "32536  United-States   >50K  \n",
            "32537  United-States  <=50K  \n",
            "32538  United-States   >50K  \n",
            "32540  United-States  <=50K  \n",
            "32543  United-States  <=50K  \n",
            "32544  United-States  <=50K  \n",
            "32545  United-States   >50K  \n",
            "32546  United-States  <=50K  \n",
            "32547         Mexico  <=50K  \n",
            "32548  United-States  <=50K  \n",
            "32549  United-States  <=50K  \n",
            "32550  United-States  <=50K  \n",
            "32551  United-States  <=50K  \n",
            "32552  United-States  <=50K  \n",
            "32553         Taiwan  <=50K  \n",
            "32554  United-States   >50K  \n",
            "32555  United-States  <=50K  \n",
            "32556  United-States  <=50K  \n",
            "32557  United-States   >50K  \n",
            "32558  United-States  <=50K  \n",
            "32559  United-States  <=50K  \n",
            "32560  United-States   >50K  \n",
            "\n",
            "[30162 rows x 15 columns]\n"
          ],
          "name": "stdout"
        }
      ]
    },
    {
      "metadata": {
        "id": "mDJ7pCzqiY7R",
        "colab_type": "code",
        "colab": {
          "base_uri": "https://localhost:8080/",
          "height": 17
        },
        "outputId": "a2ba7af6-5496-4bde-c321-20992c8ba0df"
      },
      "cell_type": "code",
      "source": [
        "from keras.models import Sequential\n",
        "from keras.layers import Dense\n",
        "np.random.seed(201)\n",
        "\n",
        "model = Sequential()\n",
        "model.add(Dense(16,input_dim=104,activation=\"sigmoid\"))\n",
        "model.add(Dense(8,activation=\"sigmoid\"))\n",
        "model.add(Dense(4,activation=\"sigmoid\"))\n",
        "model.add(Dense(2,activation=\"sigmoid\"))\n",
        "model.compile(optimizer='sgd',loss=\"categorical_crossentropy\",metrics=['accuracy'])"
      ],
      "execution_count": 99,
      "outputs": []
    },
    {
      "metadata": {
        "id": "SKttusNJo6rL",
        "colab_type": "code",
        "colab": {
          "base_uri": "https://localhost:8080/",
          "height": 869
        },
        "outputId": "b56d40ce-f5bd-477a-cd35-9571178e6437"
      },
      "cell_type": "code",
      "source": [
        "from sklearn.preprocessing import LabelEncoder, OneHotEncoder\n",
        "from sklearn.preprocessing import StandardScaler\n",
        "from keras.utils import np_utils\n",
        "X = train.iloc[:,0:14]\n",
        "X = X.drop(columns=[\"fnlwgt\",\"education-num\",\"capital-gain\",\"capital-loss\"])\n",
        "\n",
        "Y = train.iloc[:,14:]\n",
        "\n",
        "\n",
        "X['age'] = pandas.qcut(X.age,3,labels=[\"young\",\"mid\",\"old\"],retbins=True)[0]\n",
        "X['hoursperweek'] = pandas.qcut(X.hoursperweek,4,labels=[\"little\",\"normal\",\"lot\"],retbins=True,duplicates=\"drop\")[0]\n",
        "\n",
        "\n",
        "X = pandas.get_dummies(X,columns=[\"age\",\"hoursperweek\",\"workclass\", \"education\", \"marital-status\",\"occupation\",\"relationship\",\"race\",\"sex\",\"native-country\"])\n",
        "X = X.values\n",
        "Y = pandas.get_dummies(Y,columns=[\"income\"])\n",
        "\n",
        "Y=Y.values\n",
        "model.fit(X,Y,epochs=150,batch_size=10)\n"
      ],
      "execution_count": 0,
      "outputs": [
        {
          "output_type": "stream",
          "text": [
            "Epoch 1/150\n",
            "30162/30162 [==============================] - 26s 849us/step - loss: 0.3471 - acc: 0.8369\n",
            "Epoch 2/150\n",
            "17440/30162 [================>.............] - ETA: 10s - loss: 0.3452 - acc: 0.8388"
          ],
          "name": "stdout"
        },
        {
          "output_type": "stream",
          "text": [
            "30162/30162 [==============================] - 25s 827us/step - loss: 0.3473 - acc: 0.8379\n",
            "Epoch 3/150\n",
            "29510/30162 [============================>.] - ETA: 0s - loss: 0.3475 - acc: 0.8376"
          ],
          "name": "stdout"
        },
        {
          "output_type": "stream",
          "text": [
            "30162/30162 [==============================] - 25s 814us/step - loss: 0.3472 - acc: 0.8377\n",
            "Epoch 4/150\n",
            "30162/30162 [==============================] - 25s 832us/step - loss: 0.3467 - acc: 0.8372\n",
            "Epoch 5/150\n",
            " 2570/30162 [=>............................] - ETA: 22s - loss: 0.3586 - acc: 0.8300"
          ],
          "name": "stdout"
        },
        {
          "output_type": "stream",
          "text": [
            "30162/30162 [==============================] - 25s 825us/step - loss: 0.3470 - acc: 0.8377\n",
            "Epoch 6/150\n",
            "21850/30162 [====================>.........] - ETA: 7s - loss: 0.3490 - acc: 0.8366"
          ],
          "name": "stdout"
        },
        {
          "output_type": "stream",
          "text": [
            "30162/30162 [==============================] - 25s 831us/step - loss: 0.3468 - acc: 0.8386\n",
            "Epoch 7/150\n",
            "30162/30162 [==============================] - 24s 807us/step - loss: 0.3470 - acc: 0.8381\n",
            "Epoch 8/150\n",
            " 1020/30162 [>.............................] - ETA: 23s - loss: 0.3538 - acc: 0.8412"
          ],
          "name": "stdout"
        },
        {
          "output_type": "stream",
          "text": [
            "30162/30162 [==============================] - 25s 843us/step - loss: 0.3469 - acc: 0.8377\n",
            "Epoch 9/150\n",
            "21200/30162 [====================>.........] - ETA: 7s - loss: 0.3467 - acc: 0.8381"
          ],
          "name": "stdout"
        },
        {
          "output_type": "stream",
          "text": [
            "30162/30162 [==============================] - 25s 824us/step - loss: 0.3466 - acc: 0.8387\n",
            "Epoch 10/150\n",
            "30162/30162 [==============================] - 25s 839us/step - loss: 0.3470 - acc: 0.8386\n",
            "Epoch 11/150\n",
            "   10/30162 [..............................] - ETA: 39s - loss: 0.3653 - acc: 0.9000"
          ],
          "name": "stdout"
        },
        {
          "output_type": "stream",
          "text": [
            "30162/30162 [==============================] - 25s 818us/step - loss: 0.3466 - acc: 0.8388\n",
            "Epoch 12/150\n",
            "20860/30162 [===================>..........] - ETA: 7s - loss: 0.3485 - acc: 0.8379"
          ],
          "name": "stdout"
        },
        {
          "output_type": "stream",
          "text": [
            "30162/30162 [==============================] - 26s 850us/step - loss: 0.3464 - acc: 0.8391\n",
            "Epoch 13/150\n",
            "28800/30162 [===========================>..] - ETA: 1s - loss: 0.3469 - acc: 0.8372"
          ],
          "name": "stdout"
        },
        {
          "output_type": "stream",
          "text": [
            "30162/30162 [==============================] - 26s 872us/step - loss: 0.3465 - acc: 0.8374\n",
            "Epoch 14/150\n",
            "30162/30162 [==============================] - 25s 835us/step - loss: 0.3465 - acc: 0.8387\n",
            "Epoch 15/150\n",
            " 2020/30162 [=>............................] - ETA: 23s - loss: 0.3560 - acc: 0.8312"
          ],
          "name": "stdout"
        },
        {
          "output_type": "stream",
          "text": [
            "30162/30162 [==============================] - 25s 841us/step - loss: 0.3467 - acc: 0.8375\n",
            "Epoch 16/150\n",
            "21980/30162 [====================>.........] - ETA: 6s - loss: 0.3470 - acc: 0.8367"
          ],
          "name": "stdout"
        },
        {
          "output_type": "stream",
          "text": [
            "30162/30162 [==============================] - 25s 813us/step - loss: 0.3464 - acc: 0.8376\n",
            "Epoch 17/150\n",
            "30162/30162 [==============================] - 25s 823us/step - loss: 0.3466 - acc: 0.8391\n",
            "Epoch 18/150\n",
            "  430/30162 [..............................] - ETA: 26s - loss: 0.3263 - acc: 0.8442"
          ],
          "name": "stdout"
        },
        {
          "output_type": "stream",
          "text": [
            "30162/30162 [==============================] - 26s 867us/step - loss: 0.3466 - acc: 0.8378\n",
            "Epoch 19/150\n",
            "20650/30162 [===================>..........] - ETA: 7s - loss: 0.3448 - acc: 0.8376"
          ],
          "name": "stdout"
        },
        {
          "output_type": "stream",
          "text": [
            "30162/30162 [==============================] - 25s 830us/step - loss: 0.3461 - acc: 0.8376\n",
            "Epoch 20/150\n",
            "30020/30162 [============================>.] - ETA: 0s - loss: 0.3465 - acc: 0.8371"
          ],
          "name": "stdout"
        },
        {
          "output_type": "stream",
          "text": [
            "30162/30162 [==============================] - 25s 827us/step - loss: 0.3463 - acc: 0.8371\n",
            "Epoch 21/150\n",
            "30162/30162 [==============================] - 25s 824us/step - loss: 0.3463 - acc: 0.8390\n",
            "Epoch 22/150\n",
            " 2690/30162 [=>............................] - ETA: 22s - loss: 0.3528 - acc: 0.8390"
          ],
          "name": "stdout"
        },
        {
          "output_type": "stream",
          "text": [
            "30162/30162 [==============================] - 25s 815us/step - loss: 0.3460 - acc: 0.8392\n",
            "Epoch 23/150\n",
            "22240/30162 [=====================>........] - ETA: 6s - loss: 0.3449 - acc: 0.8378"
          ],
          "name": "stdout"
        },
        {
          "output_type": "stream",
          "text": [
            "30162/30162 [==============================] - 25s 833us/step - loss: 0.3462 - acc: 0.8371\n",
            "Epoch 24/150\n",
            "25980/30162 [========================>.....] - ETA: 3s - loss: 0.3460 - acc: 0.8392"
          ],
          "name": "stdout"
        }
      ]
    },
    {
      "metadata": {
        "id": "Hr4yc7Kvnn24",
        "colab_type": "text"
      },
      "cell_type": "markdown",
      "source": [
        "Create a simple neural network with keras to predict the output"
      ]
    }
  ]
}